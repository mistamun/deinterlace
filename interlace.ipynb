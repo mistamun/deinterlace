{
 "cells": [
  {
   "cell_type": "code",
   "execution_count": 9,
   "metadata": {},
   "outputs": [],
   "source": [
    "import glob\n",
    "import numpy as np\n",
    "from PIL import Image"
   ]
  },
  {
   "cell_type": "code",
   "execution_count": 10,
   "metadata": {},
   "outputs": [],
   "source": [
    "images = glob.glob('images/original/*_a.png')"
   ]
  },
  {
   "cell_type": "code",
   "execution_count": 11,
   "metadata": {},
   "outputs": [],
   "source": [
    "for filename in images:\n",
    "    index = filename.split('/')[-1].split('_')[0]\n",
    "    a = Image.open(filename)\n",
    "    b = Image.open(filename.replace('_a', '_b'))\n",
    "\n",
    "    npa = np.asarray(a)\n",
    "    npb = np.asarray(b)\n",
    "\n",
    "    npa_small = npa[::2]\n",
    "    npb_small = npb[1::2]\n",
    "\n",
    "    npc = np.ravel(np.column_stack((npa_small, npb_small)))\n",
    "    npc = npc.reshape(npa.shape)\n",
    "\n",
    "    if npc.shape == npa.shape:\n",
    "        a = Image.fromarray(npa_small)\n",
    "        b = Image.fromarray(npb_small)\n",
    "        a.save(f'images/laces/{index}_a.png')\n",
    "        b.save(f'images/laces/{index}_b.png')\n",
    "\n",
    "        c = Image.fromarray(npc) \n",
    "        c.save(f'images/interlaced/{index}.png')\n"
   ]
  }
 ],
 "metadata": {
  "kernelspec": {
   "display_name": "deinterlace",
   "language": "python",
   "name": "python3"
  },
  "language_info": {
   "codemirror_mode": {
    "name": "ipython",
    "version": 3
   },
   "file_extension": ".py",
   "mimetype": "text/x-python",
   "name": "python",
   "nbconvert_exporter": "python",
   "pygments_lexer": "ipython3",
   "version": "3.10.16"
  }
 },
 "nbformat": 4,
 "nbformat_minor": 2
}
