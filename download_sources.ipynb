{
 "cells": [
  {
   "cell_type": "code",
   "execution_count": 1,
   "metadata": {},
   "outputs": [],
   "source": [
    "import yt_dlp\n",
    "from yt_dlp.utils import download_range_func"
   ]
  },
  {
   "cell_type": "code",
   "execution_count": 2,
   "metadata": {},
   "outputs": [],
   "source": [
    "start_time = 15  # accepts decimal value like 2.3\n",
    "end_time = 16"
   ]
  },
  {
   "cell_type": "code",
   "execution_count": 3,
   "metadata": {},
   "outputs": [],
   "source": [
    "id_list = [\n",
    "    'cHl_gsd0OR0',\n",
    "]"
   ]
  },
  {
   "cell_type": "code",
   "execution_count": 4,
   "metadata": {},
   "outputs": [
    {
     "name": "stdout",
     "output_type": "stream",
     "text": [
      "[youtube] Extracting URL: https://www.youtube.com/watch?v=cHl_gsd0OR0\n",
      "[youtube] cHl_gsd0OR0: Downloading webpage\n",
      "[youtube] cHl_gsd0OR0: Downloading tv player API JSON\n",
      "[youtube] cHl_gsd0OR0: Downloading ios player API JSON\n",
      "[youtube] cHl_gsd0OR0: Downloading m3u8 information\n",
      "[info] cHl_gsd0OR0: Downloading 1 format(s): 401+251\n",
      "[info] cHl_gsd0OR0: Downloading 1 time ranges: 15.0-16.0\n",
      "[download] Destination: videos/0.webm\n"
     ]
    },
    {
     "name": "stderr",
     "output_type": "stream",
     "text": [
      "[libaom-av1 @ 0x55eeb6f32e00] v1.0.0\n",
      "Input #0, mov,mp4,m4a,3gp,3g2,mj2, from 'https://rr3---sn-aigzrnss.googlevideo.com/videoplayback?expire=1737087436&ei=bIWJZ7WrMenFmLAPsIeGuQ4&ip=195.180.18.165&id=o-AMYYrESz67UwZ-WLYSWO33uuysqlR3HWwY3rYdYbC2Xl&itag=401&aitags=133%2C134%2C135%2C136%2C137%2C160%2C242%2C243%2C244%2C247%2C248%2C271%2C278%2C313%2C394%2C395%2C396%2C397%2C398%2C399%2C400%2C401&source=youtube&requiressl=yes&xpc=EgVo2aDSNQ%3D%3D&met=1737065836%2C&mh=4v&mm=31%2C29&mn=sn-aigzrnss%2Csn-aigl6nek&ms=au%2Crdu&mv=m&mvi=3&pl=20&rms=au%2Cau&gcr=gb&initcwndbps=5825000&bui=AY2Et-NRQz0D2oTVP2gNNTl5GNE6NcvDFA03dqWu0yD8jayQZs04nQb7GT97Un2qKUCChuy4P4sxbRJ7&vprv=1&svpuc=1&mime=video%2Fmp4&ns=g6nHjPvFP1YNAXqP3Y00TdIQ&rqh=1&gir=yes&clen=1390375172&dur=903.485&lmt=1736913497565791&mt=1737065343&fvip=5&keepalive=yes&lmw=1&fexp=51326932%2C51335594%2C51353498%2C51371294%2C51384461&c=TVHTML5&sefc=1&txp=5532534&n=YKaPUZLIgN3d2Q&sparams=expire%2Cei%2Cip%2Cid%2Caitags%2Csource%2Crequiressl%2Cxpc%2Cgcr%2Cbui%2Cvprv%2Csvpuc%2Cmime%2Cns%2Crqh%2Cgir%2Cclen%2Cdur%2Clmt&lsparams=met%2Cmh%2Cmm%2Cmn%2Cms%2Cmv%2Cmvi%2Cpl%2Crms%2Cinitcwndbps&lsig=AGluJ3MwRQIgX-D-IQxZgS2cZhJrdH8gOCGHI-git77cLqC39G4uX78CIQDLqkHsZ8knnMxroZdnVa-JqljTUHMs5BewcloDFTw5Yw%3D%3D&sig=AJfQdSswRAIgK_pWaQISlM76vUVw4gTfkQN1mHMV9gXsfbaGl1U50x0CIDns_XLtj6j2dnDaJf3H4pBh86CBlKiL79X4DjQgDWxT':\n",
      "  Metadata:\n",
      "    major_brand     : dash\n",
      "    minor_version   : 0\n",
      "    compatible_brands: iso6av01mp41\n",
      "    creation_time   : 2025-01-14T21:40:32.000000Z\n",
      "  Duration: 00:15:03.49, start: 0.000000, bitrate: 12311 kb/s\n",
      "    Stream #0:0(und): Video: av1 (Main) (av01 / 0x31307661), yuv420p(tv, bt709), 3840x2160, 38 kb/s, 23.98 fps, 23.98 tbr, 24k tbn, 24k tbc (default)\n",
      "    Metadata:\n",
      "      creation_time   : 2025-01-14T21:40:32.000000Z\n",
      "      handler_name    : ISO Media file produced by Google Inc.\n",
      "Input #1, matroska,webm, from 'https://rr3---sn-aigzrnss.googlevideo.com/videoplayback?expire=1737087436&ei=bIWJZ7WrMenFmLAPsIeGuQ4&ip=195.180.18.165&id=o-AMYYrESz67UwZ-WLYSWO33uuysqlR3HWwY3rYdYbC2Xl&itag=251&source=youtube&requiressl=yes&xpc=EgVo2aDSNQ%3D%3D&met=1737065836%2C&mh=4v&mm=31%2C29&mn=sn-aigzrnss%2Csn-aigl6nek&ms=au%2Crdu&mv=m&mvi=3&pl=20&rms=au%2Cau&gcr=gb&initcwndbps=5825000&bui=AY2Et-NRQz0D2oTVP2gNNTl5GNE6NcvDFA03dqWu0yD8jayQZs04nQb7GT97Un2qKUCChuy4P4sxbRJ7&vprv=1&svpuc=1&mime=audio%2Fwebm&ns=g6nHjPvFP1YNAXqP3Y00TdIQ&rqh=1&gir=yes&clen=14359488&dur=903.501&lmt=1736882764534517&mt=1737065343&fvip=5&keepalive=yes&lmw=1&fexp=51326932%2C51335594%2C51353498%2C51371294%2C51384461&c=TVHTML5&sefc=1&txp=5532534&n=YKaPUZLIgN3d2Q&sparams=expire%2Cei%2Cip%2Cid%2Citag%2Csource%2Crequiressl%2Cxpc%2Cgcr%2Cbui%2Cvprv%2Csvpuc%2Cmime%2Cns%2Crqh%2Cgir%2Cclen%2Cdur%2Clmt&lsparams=met%2Cmh%2Cmm%2Cmn%2Cms%2Cmv%2Cmvi%2Cpl%2Crms%2Cinitcwndbps&lsig=AGluJ3MwRQIgX-D-IQxZgS2cZhJrdH8gOCGHI-git77cLqC39G4uX78CIQDLqkHsZ8knnMxroZdnVa-JqljTUHMs5BewcloDFTw5Yw%3D%3D&sig=AJfQdSswRQIgDY0B2maU9QXKEgzi7MnOMlA4TfgkQ9oFhKp-Z8GTmp8CIQDhet4W68TMQkMntbAm2NtPG_usAS4X5Ng-khTVdyWLhw%3D%3D':\n",
      "  Metadata:\n",
      "    encoder         : google/video-file\n",
      "  Duration: 00:15:03.50, start: -0.007000, bitrate: 127 kb/s\n",
      "    Stream #1:0(eng): Audio: opus, 48000 Hz, stereo, fltp (default)\n",
      "[libaom-av1 @ 0x55eeb6d11040] v1.0.0\n",
      "Stream mapping:\n",
      "  Stream #0:0 -> #0:0 (av1 (libaom-av1) -> vp9 (libvpx-vp9))\n",
      "  Stream #1:0 -> #0:1 (opus (native) -> opus (libopus))\n",
      "Press [q] to stop, [?] for help\n",
      "[libvpx-vp9 @ 0x55eeb6e71680] v1.8.2\n",
      "[libopus @ 0x55eeb6e18f40] No bit rate set. Defaulting to 96000 bps.\n",
      "Output #0, webm, to 'file:videos/0.webm.part':\n",
      "  Metadata:\n",
      "    major_brand     : dash\n",
      "    minor_version   : 0\n",
      "    compatible_brands: iso6av01mp41\n",
      "    encoder         : Lavf58.29.100\n",
      "    Stream #0:0(und): Video: vp9 (libvpx-vp9), yuv420p, 3840x2160, q=-1--1, 200 kb/s, 23.98 fps, 1k tbn, 23.98 tbc (default)\n",
      "    Metadata:\n",
      "      creation_time   : 2025-01-14T21:40:32.000000Z\n",
      "      handler_name    : ISO Media file produced by Google Inc.\n",
      "      encoder         : Lavc58.54.100 libvpx-vp9\n",
      "    Side data:\n",
      "      cpb: bitrate max/min/avg: 0/0/0 buffer size: 0 vbv_delay: -1\n",
      "    Stream #0:1(eng): Audio: opus (libopus), 48000 Hz, stereo, flt, 96 kb/s (default)\n",
      "    Metadata:\n",
      "      encoder         : Lavc58.54.100 libopus\n",
      "frame=   24 fps=0.3 q=0.0 Lsize=     114kB time=00:00:01.01 bitrate= 922.2kbits/s speed=0.0142x    \n",
      "video:101kB audio:11kB subtitle:0kB other streams:0kB global headers:0kB muxing overhead: 1.371099%\n"
     ]
    },
    {
     "name": "stdout",
     "output_type": "stream",
     "text": [
      "[download] 100% of  114.15KiB in 00:01:13 at 1.56KiB/s\n"
     ]
    }
   ],
   "source": [
    "for index, id in enumerate(id_list):\n",
    "    yt_opts = {\n",
    "        'verbose': False,\n",
    "        'download_ranges': download_range_func(None, [(start_time, end_time)]),\n",
    "        'force_keyframes_at_cuts': True,\n",
    "        'outtmpl': f'videos/{index}.%(ext)s',\n",
    "    }\n",
    "    with yt_dlp.YoutubeDL(yt_opts) as ydl:\n",
    "        ydl.download(f'https://www.youtube.com/watch?v={id}')\n"
   ]
  }
 ],
 "metadata": {
  "kernelspec": {
   "display_name": "deinterlace",
   "language": "python",
   "name": "python3"
  },
  "language_info": {
   "codemirror_mode": {
    "name": "ipython",
    "version": 3
   },
   "file_extension": ".py",
   "mimetype": "text/x-python",
   "name": "python",
   "nbconvert_exporter": "python",
   "pygments_lexer": "ipython3",
   "version": "3.10.16"
  }
 },
 "nbformat": 4,
 "nbformat_minor": 2
}
