{
 "cells": [
  {
   "cell_type": "code",
   "execution_count": 1,
   "metadata": {},
   "outputs": [],
   "source": [
    "import cv2\n",
    "import glob"
   ]
  },
  {
   "cell_type": "code",
   "execution_count": 2,
   "metadata": {},
   "outputs": [],
   "source": [
    "for filename in list(glob.glob('videos/*')):\n",
    "    index = filename.split('/')[-1].split('.')[0]\n",
    "    vidcap = cv2.VideoCapture(filename)\n",
    "    success, image = vidcap.read()\n",
    "    if success:\n",
    "        cv2.imwrite(f'images/original/{index}_a.png', image)\n",
    "    success, image = vidcap.read()\n",
    "    if success:\n",
    "        cv2.imwrite(f'images/original/{index}_b.png', image)\n"
   ]
  }
 ],
 "metadata": {
  "kernelspec": {
   "display_name": "deinterlace",
   "language": "python",
   "name": "python3"
  },
  "language_info": {
   "codemirror_mode": {
    "name": "ipython",
    "version": 3
   },
   "file_extension": ".py",
   "mimetype": "text/x-python",
   "name": "python",
   "nbconvert_exporter": "python",
   "pygments_lexer": "ipython3",
   "version": "3.12.8"
  }
 },
 "nbformat": 4,
 "nbformat_minor": 2
}
